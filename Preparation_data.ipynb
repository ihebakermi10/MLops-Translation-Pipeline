{
  "cells": [
    {
      "cell_type": "code",
      "execution_count": null,
      "metadata": {
        "colab": {
          "base_uri": "https://localhost:8080/"
        },
        "id": "cx9a6RbcG03b",
        "outputId": "06281dfb-c587-4b22-98aa-8480c32278fc"
      },
      "outputs": [
        {
          "output_type": "stream",
          "name": "stdout",
          "text": [
            "Collecting pymongo\n",
            "  Downloading pymongo-4.7.2-cp310-cp310-manylinux_2_17_x86_64.manylinux2014_x86_64.whl (670 kB)\n",
            "\u001b[2K     \u001b[90m━━━━━━━━━━━━━━━━━━━━━━━━━━━━━━━━━━━━━━━━\u001b[0m \u001b[32m670.0/670.0 kB\u001b[0m \u001b[31m6.9 MB/s\u001b[0m eta \u001b[36m0:00:00\u001b[0m\n",
            "\u001b[?25hCollecting dnspython<3.0.0,>=1.16.0 (from pymongo)\n",
            "  Downloading dnspython-2.6.1-py3-none-any.whl (307 kB)\n",
            "\u001b[2K     \u001b[90m━━━━━━━━━━━━━━━━━━━━━━━━━━━━━━━━━━━━━━━━\u001b[0m \u001b[32m307.7/307.7 kB\u001b[0m \u001b[31m22.8 MB/s\u001b[0m eta \u001b[36m0:00:00\u001b[0m\n",
            "\u001b[?25hInstalling collected packages: dnspython, pymongo\n",
            "Successfully installed dnspython-2.6.1 pymongo-4.7.2\n"
          ]
        }
      ],
      "source": [
        "pip install pymongo"
      ]
    },
    {
      "cell_type": "code",
      "execution_count": null,
      "metadata": {
        "colab": {
          "base_uri": "https://localhost:8080/"
        },
        "id": "WNEhc2HWrgqD",
        "outputId": "92dc48c5-3cc0-4cb5-de97-a1f327e167da"
      },
      "outputs": [
        {
          "output_type": "stream",
          "name": "stdout",
          "text": [
            "68575\n"
          ]
        }
      ],
      "source": [
        "from pymongo import MongoClient\n",
        "import pandas as pd\n",
        "#change your country code like \"zh\" , \"ar\"\n",
        "# Connexion à la base de données MongoDB\n",
        "uri = \"your url\"\n",
        "client = MongoClient(uri)\n",
        "dbName = \"spark-it\"\n",
        "collectionName = \"ingestion\"\n",
        "collection = client[dbName][collectionName]\n",
        "\n",
        "documents = collection.find({\"$and\": [{\"en\": {\"$exists\": True}}, {\"zh\": {\"$exists\": True}}]})\n",
        "\n",
        "# Construction d'une liste de dictionnaires avec les données\n",
        "data = []\n",
        "for doc in documents:\n",
        "    data_dict = {\"translation\": {}}\n",
        "    if \"en\" in doc:\n",
        "        data_dict[\"translation\"][\"en\"] = doc[\"en\"]\n",
        "    if \"zh\" in doc:\n",
        "        data_dict[\"translation\"][\"zh\"] = doc[\"zh\"]\n",
        "    data.append(data_dict)\n",
        "\n",
        "# Création d'un DataFrame pandas\n",
        "df = pd.DataFrame(data)\n",
        "\n",
        "# Affichage du DataFrame\n",
        "print(len(df))\n"
      ]
    },
    {
      "cell_type": "code",
      "execution_count": null,
      "metadata": {
        "colab": {
          "base_uri": "https://localhost:8080/"
        },
        "id": "70_QsayDktQP",
        "outputId": "1c52cce1-16ba-4cdf-efeb-daa16a384ef2"
      },
      "outputs": [
        {
          "output_type": "stream",
          "name": "stdout",
          "text": [
            "                                    translation\n",
            "0                {'en': 'belgium', 'zh': '比利時'}\n",
            "1               {'en': 'happiness', 'zh': '快樂'}\n",
            "2     {'en': 'douglas adams', 'zh': '道格拉斯·亞當斯'}\n",
            "3   {'en': 'george washington', 'zh': '乔治·华盛顿'}\n",
            "4           {'en': 'jack bauer', 'zh': '傑克·鮑爾'}\n",
            "..                                          ...\n",
            "95           {'en': 'erta ale', 'zh': '尔塔阿雷火山'}\n",
            "96                {'en': 'angola', 'zh': '安哥拉'}\n",
            "97                   {'en': 'mali', 'zh': '马里'}\n",
            "98                 {'en': 'yellow', 'zh': '黃色'}\n",
            "99                 {'en': 'brač', 'zh': '布拉奇岛'}\n",
            "\n",
            "[100 rows x 1 columns]\n"
          ]
        }
      ],
      "source": [
        "print(df.head(100))\n"
      ]
    },
    {
      "cell_type": "code",
      "execution_count": null,
      "metadata": {
        "colab": {
          "base_uri": "https://localhost:8080/"
        },
        "id": "d6nupOh2rixU",
        "outputId": "2e038dd6-e90d-45ab-dbbe-3441334da040"
      },
      "outputs": [
        {
          "output_type": "stream",
          "name": "stdout",
          "text": [
            "Le fichier a été sauvegardé avec succès sous : traductions_zh_en.json\n"
          ]
        }
      ],
      "source": [
        "# Sauvegarde du DataFrame en fichier JSON\n",
        "output_file_path = 'traductions_zh_en.json'  # Spécifiez le chemin et le nom du fichier de sortie\n",
        "df.to_json(output_file_path, orient='records', lines=True, force_ascii=False)\n",
        "\n",
        "print(f\"Le fichier a été sauvegardé avec succès sous : {output_file_path}\")\n"
      ]
    }
  ],
  "metadata": {
    "colab": {
      "provenance": []
    },
    "kernelspec": {
      "display_name": "Python 3",
      "name": "python3"
    },
    "language_info": {
      "name": "python"
    }
  },
  "nbformat": 4,
  "nbformat_minor": 0
}